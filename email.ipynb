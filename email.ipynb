{
 "cells": [
  {
   "cell_type": "code",
   "execution_count": 29,
   "id": "a8a8f4d1",
   "metadata": {},
   "outputs": [
    {
     "name": "stdout",
     "output_type": "stream",
     "text": [
      "The name of the first person in space is Yuri Gagarin. He was a Soviet cosmonaut who made history by becoming the first human to journey into outer space on April 12, 1961. Gagarin orbited the Earth once aboard the Vostok 1 spacecraft, completing a single orbit in 108 minutes.\n"
     ]
    }
   ],
   "source": [
    "from langchain_groq import ChatGroq\n",
    "\n",
    "llm = ChatGroq(\n",
    "    model=\"llama-3.1-70b-versatile\",\n",
    "    temperature=0,\n",
    "    groq_api_key='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'\n",
    ")\n",
    "\n",
    "response=llm.invoke(\"what is the name of first person in space...\")\n",
    "print(response.content)"
   ]
  },
  {
   "cell_type": "code",
   "execution_count": 31,
   "id": "280cc064",
   "metadata": {},
   "outputs": [
    {
     "name": "stdout",
     "output_type": "stream",
     "text": [
      "Apply for Software Engineer II, ITC\n",
      "\n",
      "Search JobsSkip navigationSearch JobsNIKE, INC. JOBSContract JobsJoin The Talent CommunityLife @ NikeOverviewBenefitsBrandsOverviewJordanConverseTeamsOverviewAdministrative SupportAdvanced InnovationAir Manufacturing InnovationAviationCommunicationsCustomer ServiceDesignDigitalFacilitiesFinance & AccountingGovernment & Public AffairsHuman ResourcesInsights & AnalyticsLegalManufacturing & EngineeringMarketingMerchandisingPlanningPrivacyProcurementProduct Creation, Development & ManagementRetail CorporateRetail StoresSalesSocial & Community ImpactSports MarketingStrategic PlanningSupply Chain, Distribution & LogisticsSustainabilityTechnologyLocationsOverviewNike WHQNike New York HQEHQ: Hilversum, The NetherlandsELC: Laakdal, BelgiumGreater China HQDiversity, Equity & InclusionOverviewMilitary InclusionDisability InclusionIndigenous InclusionInternshipsTechnologySoftware Engineer II, ITCKarnataka, IndiaBecome a Part of the NIKE, Inc. TeamNIKE, Inc. does more than outfit the world’s best athletes. It is a place to explore potential, obliterate boundaries and push out the edges of what can be. The company looks for people who can grow, think, dream and create. Its culture thrives by embracing diversity and rewarding imagination. The brand seeks achievers, leaders and visionaries. At NIKE, Inc. it’s about each person bringing skills and passion to a challenging and constantly evolving game.NIKE is a technology company. From our flagship website and five-star mobile apps to developing products, managing big data and providing leading edge engineering and systems support, our teams at NIKE Global Technology exist to revolutionize the future at the confluence of tech and sport. We invest and develop advances in technology and employ the most creative people in the world, and then give them the support to constantly innovate, iterate and serve consumers more directly and personally.  Our teams are innovative, diverse, multidisciplinary and collaborative, taking technology into the future and bringing the world with it.WHO YOU’LL WORK WITHThis role is part of the Nike’s Customer Data Platform within Marketing Technology. This team works on a variety of data points across Geos from Nike’ experiences, Data Science Models, Transaction Data, Permissions etc. which are stitched together to create a rich customer overview that provides the marketers a buffet of options to choose for a marketing activity or build a insight. This team is powered by Data Engineering, Customer Data platform software service and many home-grown tools based on cutting edge technologies.WHO WE ARE LOOKING FORWe are looking for a Software engineer, to be a part of Nike’s Marketing Technology organization. This position will play a critical role, in developing Nike’s Customer Data platform, which supports and promotes our products and provides a unique user experience to all our customers in166 countries globally. We are looking for someone to have a strong Data engineering and analytical background with a focus of delivering an omnichannel consumer experience through data driven marketing.We are looking for a candidate with a strong 2-5 years of experience on working on large datasets and should demonstrate below skills:Academic background in computer science (BE or B Tech) or equivalent work2-5 years of technology related experienceHands-on experience in data engineering developing batch and streaming pipelineHands on experience on Python or Java, SQL, Data Engineering, experience with the following tools or similar: Data Bricks Airflow, EMR, Hive, SparkDemonstrated strength in data modelling, ETL development, and data streamingExperience in microservices architecture, domain driven design, and RESTful API’sKnowledge of data management fundamentals and data storage principlesExperience in customizing product solutionsFamiliarity with the challenge of moving large files across a geographically disperse network. Knowledge of different accelerated transfer methods and technologiesExperience with implementing CI/CD and leading teams with DevOps responsibilities of deploying and supporting the software in productionExperience using cloud services to build an integrated application in production (AWS - EC2, ECS, API gateway, Lambda).Experience with implementing CI/CD and DevOps responsibilities of deploying and supporting the software in productionMarketing technology experience is a plusExperience integrating with various Adobe toolset in the marketing space would be a plus– in particular Adobe Experience Platform (AEP), Journey Orchestration (JO), Customer Journey Analytics(CJA)WHAT YOU’LL WORK ONThis role will be responsible for driving, owning, and shipping all aspects of large, multi-functional efforts feature areas and will partner with engineering teams throughout feature development from architecture, design, implementation, and validation.Design, and build large datasets, and data pipelines to support building out our new Customer Data Platform (CDP) which will enable advanced segmentation in Customer data platform, that creates unique customer experience targeting, automation, and analytics.Build complex data pipelines for real time data, click stream analysis and work to achieve high-quality data ingestion goals.The technology stack that you will be working on: Data Bricks, Python, AirFlow, AWS, EMR, Databricks.Innovating, architecting, designing, and implementing highly available, scalable systems, focusing on highly visible marketing initiatives Contributing ideas for new features and identifying technical areas for improvement proactively Collaborate with upstream and downstream technical teams to develop integrations to provide a seamless flow of our marketing assets from planning to delivery.  NIKE, Inc. is a growth company that looks for team members to grow with it. Nike offers a generous total rewards package, casual work environment, a diverse and inclusive culture, and an electric atmosphere for professional development. No matter the location, or the role, every Nike employee shares one galvanizing mission: To bring inspiration and innovation to every athlete* in the world.NIKE, Inc. is committed to employing a diverse workforce. Qualified applicants will receive consideration without regard to race, color, religion, sex, national origin, age, sexual orientation, gender identity, gender expression, veteran status, or disability.How We HireAt NIKE, Inc. we promise to provide a premium, inclusive, compelling and authentic candidate experience. Delivering on this promise means we allow you to be at your best — and to do that, you need to understand how the hiring process works. Transparency is key.\r\n",
      "\r\n",
      "* This overview explains our hiring process for corporate roles. Note there may be different hiring steps involved for non-corporate roles.Start nowBenefitsWhether it’s transportation or financial health, we continually invest in our employees to help them achieve greatness — inside and outside of work. All who work here should be able to realize their full potential.Employee Assistance ProgramHolidaysMedical PlanPaid Time Off (PTO)Product DiscountsLearn moreFIND A STOREBECOME A MEMBERSIGN UP FOR EMAILSEND US FEEDBACKSTUDENT DISCOUNTSGET HELPGET HELPOrder StatusDeliveryReturnsPayment OptionsContact Us On Nike.com InquiriesContact Us On All Other InquiriesABOUT NIKEABOUT NIKENewsCareersInvestorsSustainabilityIndia© 2024 Nike, Inc. All Rights ReservedGuidesNike AdaptNike Air MaxNike FlyleatherNike PegasusNike Zoom FlyNike AirNike FlyEaseNike FreeNike ReactNike ZoomXNike Air Force 1Nike FlyknitNike JoyrideNike VaporflyTerms of SaleTerms of UseNike Privacy Policy\n"
     ]
    }
   ],
   "source": [
    "from langchain_community.document_loaders import WebBaseLoader\n",
    "\n",
    "loader = WebBaseLoader(\"https://jobs.nike.com/job/R-40715?from=job%20search%20funnel\")\n",
    "page_data = loader.load().pop().page_content\n",
    "print(page_data)"
   ]
  },
  {
   "cell_type": "code",
   "execution_count": 32,
   "id": "9b5d5d89",
   "metadata": {},
   "outputs": [
    {
     "name": "stdout",
     "output_type": "stream",
     "text": [
      "```json\n",
      "[\n",
      "  {\n",
      "    \"role\": \"Software Engineer\",\n",
      "    \"experience\": \"3-5 years\",\n",
      "    \"skills\": [\"Java\", \"Spring\", \"Hibernate\"],\n",
      "    \"description\": \"We are looking for a skilled Software Engineer to join our team. The ideal candidate will have experience in Java, Spring, and Hibernate. Responsibilities include designing, developing, and testing software applications.\"\n",
      "  },\n",
      "  {\n",
      "    \"role\": \"Data Scientist\",\n",
      "    \"experience\": \"5-7 years\",\n",
      "    \"skills\": [\"Python\", \"Machine Learning\", \"Data Visualization\"],\n",
      "    \"description\": \"We are seeking a highly skilled Data Scientist to join our team. The ideal candidate will have experience in Python, Machine Learning, and Data Visualization. Responsibilities include analyzing complex data sets and developing predictive models.\"\n",
      "  },\n",
      "  {\n",
      "    \"role\": \"DevOps Engineer\",\n",
      "    \"experience\": \"2-4 years\",\n",
      "    \"skills\": [\"AWS\", \"Docker\", \"Kubernetes\"],\n",
      "    \"description\": \"We are looking for a skilled DevOps Engineer to join our team. The ideal candidate will have experience in AWS, Docker, and Kubernetes. Responsibilities include designing and implementing scalable infrastructure solutions.\"\n",
      "  }\n",
      "]\n",
      "```\n"
     ]
    }
   ],
   "source": [
    "from langchain_core.prompts import PromptTemplate\n",
    "\n",
    "prompt_extract = PromptTemplate.from_template(\"\"\"\n",
    "               ### SCRAPED TEXT FROM WEBSITE: tpage_data) \n",
    "               ### INSTRUCTION: The scraped text is from the career's page of a website. \n",
    "               Your job is to extract the job postings and return them in JSON format contail following keys: role, experience, skills and description. Only return the valid JSON .\n",
    "### VALID JSON (NO PREAMBLE):\"\"\")\n",
    "chain_extract = prompt_extract | llm\n",
    "res = chain_extract.invoke(input={'page_data':page_data})\n",
    "print(res.content)"
   ]
  },
  {
   "cell_type": "code",
   "execution_count": 34,
   "id": "d3d1f0b8",
   "metadata": {},
   "outputs": [
    {
     "data": {
      "text/plain": [
       "[{'role': 'Software Engineer',\n",
       "  'experience': '3-5 years',\n",
       "  'skills': ['Java', 'Spring', 'Hibernate'],\n",
       "  'description': 'We are looking for a skilled Software Engineer to join our team. The ideal candidate will have experience in Java, Spring, and Hibernate. Responsibilities include designing, developing, and testing software applications.'},\n",
       " {'role': 'Data Scientist',\n",
       "  'experience': '5-7 years',\n",
       "  'skills': ['Python', 'Machine Learning', 'Data Visualization'],\n",
       "  'description': 'We are seeking a highly skilled Data Scientist to join our team. The ideal candidate will have experience in Python, Machine Learning, and Data Visualization. Responsibilities include analyzing complex data sets and developing predictive models.'},\n",
       " {'role': 'DevOps Engineer',\n",
       "  'experience': '2-4 years',\n",
       "  'skills': ['AWS', 'Docker', 'Kubernetes'],\n",
       "  'description': 'We are looking for a skilled DevOps Engineer to join our team. The ideal candidate will have experience in AWS, Docker, and Kubernetes. Responsibilities include designing and implementing scalable infrastructure solutions.'}]"
      ]
     },
     "execution_count": 34,
     "metadata": {},
     "output_type": "execute_result"
    }
   ],
   "source": [
    "from langchain_core.output_parsers import JsonOutputParser\n",
    "\n",
    "json_parser = JsonOutputParser()\n",
    "json_res = json_parser.parse(res.content)\n",
    "json_res"
   ]
  },
  {
   "cell_type": "code",
   "execution_count": 35,
   "id": "c1a6eb31",
   "metadata": {},
   "outputs": [
    {
     "data": {
      "text/plain": [
       "list"
      ]
     },
     "execution_count": 35,
     "metadata": {},
     "output_type": "execute_result"
    }
   ],
   "source": [
    "type(json_res)"
   ]
  },
  {
   "cell_type": "code",
   "execution_count": 36,
   "id": "64ea60af",
   "metadata": {},
   "outputs": [
    {
     "data": {
      "text/html": [
       "<div>\n",
       "<style scoped>\n",
       "    .dataframe tbody tr th:only-of-type {\n",
       "        vertical-align: middle;\n",
       "    }\n",
       "\n",
       "    .dataframe tbody tr th {\n",
       "        vertical-align: top;\n",
       "    }\n",
       "\n",
       "    .dataframe thead th {\n",
       "        text-align: right;\n",
       "    }\n",
       "</style>\n",
       "<table border=\"1\" class=\"dataframe\">\n",
       "  <thead>\n",
       "    <tr style=\"text-align: right;\">\n",
       "      <th></th>\n",
       "      <th>Techstack</th>\n",
       "      <th>Links</th>\n",
       "    </tr>\n",
       "  </thead>\n",
       "  <tbody>\n",
       "    <tr>\n",
       "      <th>0</th>\n",
       "      <td>React, Node.js, MongoDB</td>\n",
       "      <td>https://example.com/react-portfolio</td>\n",
       "    </tr>\n",
       "    <tr>\n",
       "      <th>1</th>\n",
       "      <td>Angular,.NET, SQL Server</td>\n",
       "      <td>https://example.com/angular-portfolio</td>\n",
       "    </tr>\n",
       "    <tr>\n",
       "      <th>2</th>\n",
       "      <td>Vue.js, Ruby on Rails, PostgreSQL</td>\n",
       "      <td>https://example.com/vue-portfolio</td>\n",
       "    </tr>\n",
       "    <tr>\n",
       "      <th>3</th>\n",
       "      <td>Python, Django, MySQL</td>\n",
       "      <td>https://example.com/python-portfolio</td>\n",
       "    </tr>\n",
       "    <tr>\n",
       "      <th>4</th>\n",
       "      <td>Java, Spring Boot, Oracle</td>\n",
       "      <td>https://example.com/java-portfolio</td>\n",
       "    </tr>\n",
       "    <tr>\n",
       "      <th>5</th>\n",
       "      <td>Flutter, Firebase, GraphQL</td>\n",
       "      <td>https://example.com/flutter-portfolio</td>\n",
       "    </tr>\n",
       "    <tr>\n",
       "      <th>6</th>\n",
       "      <td>WordPress, PHP, MySQL</td>\n",
       "      <td>https://example.com/wordpress-portfolio</td>\n",
       "    </tr>\n",
       "    <tr>\n",
       "      <th>7</th>\n",
       "      <td>Magento, PHP, MySQL</td>\n",
       "      <td>https://example.com/magento-portfolio</td>\n",
       "    </tr>\n",
       "    <tr>\n",
       "      <th>8</th>\n",
       "      <td>React Native, Node.js, MongoDB</td>\n",
       "      <td>https://example.com/react-native-portfolio</td>\n",
       "    </tr>\n",
       "    <tr>\n",
       "      <th>9</th>\n",
       "      <td>iOS, Swift, Core Data</td>\n",
       "      <td>https://example.com/ios-portfolio</td>\n",
       "    </tr>\n",
       "    <tr>\n",
       "      <th>10</th>\n",
       "      <td>Android, Java, Room Persistence</td>\n",
       "      <td>https://example.com/android-portfolio</td>\n",
       "    </tr>\n",
       "    <tr>\n",
       "      <th>11</th>\n",
       "      <td>Kotlin, Android, Firebase</td>\n",
       "      <td>https://example.com/kotlin-android-portfolio</td>\n",
       "    </tr>\n",
       "    <tr>\n",
       "      <th>12</th>\n",
       "      <td>Android TV, Kotlin, Android NDK</td>\n",
       "      <td>https://example.com/android-tv-portfolio</td>\n",
       "    </tr>\n",
       "    <tr>\n",
       "      <th>13</th>\n",
       "      <td>iOS, Swift, ARKit</td>\n",
       "      <td>https://example.com/ios-ar-portfolio</td>\n",
       "    </tr>\n",
       "    <tr>\n",
       "      <th>14</th>\n",
       "      <td>Cross-platform, Xamarin, Azure</td>\n",
       "      <td>https://example.com/xamarin-portfolio</td>\n",
       "    </tr>\n",
       "    <tr>\n",
       "      <th>15</th>\n",
       "      <td>Backend, Kotlin, Spring Boot</td>\n",
       "      <td>https://example.com/kotlin-backend-portfolio</td>\n",
       "    </tr>\n",
       "    <tr>\n",
       "      <th>16</th>\n",
       "      <td>Frontend, TypeScript, Angular</td>\n",
       "      <td>https://example.com/typescript-frontend-portfolio</td>\n",
       "    </tr>\n",
       "    <tr>\n",
       "      <th>17</th>\n",
       "      <td>Full-stack, JavaScript, Express.js</td>\n",
       "      <td>https://example.com/full-stack-js-portfolio</td>\n",
       "    </tr>\n",
       "    <tr>\n",
       "      <th>18</th>\n",
       "      <td>Machine Learning, Python, TensorFlow</td>\n",
       "      <td>https://example.com/ml-python-portfolio</td>\n",
       "    </tr>\n",
       "    <tr>\n",
       "      <th>19</th>\n",
       "      <td>DevOps, Jenkins, Docker</td>\n",
       "      <td>https://example.com/devops-portfolio</td>\n",
       "    </tr>\n",
       "  </tbody>\n",
       "</table>\n",
       "</div>"
      ],
      "text/plain": [
       "                               Techstack   \n",
       "0                React, Node.js, MongoDB  \\\n",
       "1               Angular,.NET, SQL Server   \n",
       "2      Vue.js, Ruby on Rails, PostgreSQL   \n",
       "3                  Python, Django, MySQL   \n",
       "4              Java, Spring Boot, Oracle   \n",
       "5             Flutter, Firebase, GraphQL   \n",
       "6                  WordPress, PHP, MySQL   \n",
       "7                    Magento, PHP, MySQL   \n",
       "8         React Native, Node.js, MongoDB   \n",
       "9                  iOS, Swift, Core Data   \n",
       "10       Android, Java, Room Persistence   \n",
       "11             Kotlin, Android, Firebase   \n",
       "12       Android TV, Kotlin, Android NDK   \n",
       "13                     iOS, Swift, ARKit   \n",
       "14        Cross-platform, Xamarin, Azure   \n",
       "15          Backend, Kotlin, Spring Boot   \n",
       "16         Frontend, TypeScript, Angular   \n",
       "17    Full-stack, JavaScript, Express.js   \n",
       "18  Machine Learning, Python, TensorFlow   \n",
       "19               DevOps, Jenkins, Docker   \n",
       "\n",
       "                                                Links  \n",
       "0                 https://example.com/react-portfolio  \n",
       "1               https://example.com/angular-portfolio  \n",
       "2                   https://example.com/vue-portfolio  \n",
       "3                https://example.com/python-portfolio  \n",
       "4                  https://example.com/java-portfolio  \n",
       "5               https://example.com/flutter-portfolio  \n",
       "6             https://example.com/wordpress-portfolio  \n",
       "7               https://example.com/magento-portfolio  \n",
       "8          https://example.com/react-native-portfolio  \n",
       "9                   https://example.com/ios-portfolio  \n",
       "10              https://example.com/android-portfolio  \n",
       "11       https://example.com/kotlin-android-portfolio  \n",
       "12           https://example.com/android-tv-portfolio  \n",
       "13               https://example.com/ios-ar-portfolio  \n",
       "14              https://example.com/xamarin-portfolio  \n",
       "15       https://example.com/kotlin-backend-portfolio  \n",
       "16  https://example.com/typescript-frontend-portfolio  \n",
       "17        https://example.com/full-stack-js-portfolio  \n",
       "18            https://example.com/ml-python-portfolio  \n",
       "19               https://example.com/devops-portfolio  "
      ]
     },
     "execution_count": 36,
     "metadata": {},
     "output_type": "execute_result"
    }
   ],
   "source": [
    "import pandas as pd\n",
    "df = pd.read_csv(\"my_portfolio.csv\")\n",
    "df"
   ]
  },
  {
   "cell_type": "code",
   "execution_count": 38,
   "id": "9deb5bcf",
   "metadata": {},
   "outputs": [],
   "source": [
    "import uuid\n",
    "import chromadb\n",
    "\n",
    "client = chromadb.PersistentClient('vectorstore')\n",
    "collection = client.get_or_create_collection(name=\"portfolio\")\n",
    "\n",
    "if not collection.count():\n",
    "    for _, row in df.iterrows():\n",
    "        collection.add(documents=row[\"Techstack\"],\n",
    "                       metadatas={\"links\": row[\"Links\"]},\n",
    "                       ids=[str(uuid.uuid4())])"
   ]
  },
  {
   "cell_type": "code",
   "execution_count": 39,
   "id": "d79e4d52",
   "metadata": {},
   "outputs": [
    {
     "data": {
      "text/plain": [
       "[[{'links': 'https://example.com/ml-python-portfolio'},\n",
       "  {'links': 'https://example.com/python-portfolio'}],\n",
       " [{'links': 'https://example.com/react-native-portfolio'},\n",
       "  {'links': 'https://example.com/react-portfolio'}]]"
      ]
     },
     "execution_count": 39,
     "metadata": {},
     "output_type": "execute_result"
    }
   ],
   "source": [
    "links = collection.query(query_texts=[\"experience in python\", \"expertise in react native\"], n_results=2).get('metadatas', [])\n",
    "links"
   ]
  },
  {
   "cell_type": "code",
   "execution_count": 43,
   "id": "ba711aad",
   "metadata": {},
   "outputs": [],
   "source": [
    "job = json_res"
   ]
  },
  {
   "cell_type": "code",
   "execution_count": 45,
   "id": "aff0f754",
   "metadata": {},
   "outputs": [
    {
     "data": {
      "text/plain": [
       "['Java',\n",
       " 'Spring',\n",
       " 'Hibernate',\n",
       " 'Python',\n",
       " 'Machine Learning',\n",
       " 'Data Visualization',\n",
       " 'AWS',\n",
       " 'Docker',\n",
       " 'Kubernetes']"
      ]
     },
     "execution_count": 45,
     "metadata": {},
     "output_type": "execute_result"
    }
   ],
   "source": [
    "all_skills = [skill for j in job for skill in j['skills']]\n",
    "all_skills"
   ]
  },
  {
   "cell_type": "code",
   "execution_count": 47,
   "id": "15df8352",
   "metadata": {},
   "outputs": [
    {
     "data": {
      "text/plain": [
       "[[{'links': 'https://example.com/java-portfolio'},\n",
       "  {'links': 'https://example.com/android-portfolio'}],\n",
       " [{'links': 'https://example.com/java-portfolio'},\n",
       "  {'links': 'https://example.com/kotlin-backend-portfolio'}],\n",
       " [{'links': 'https://example.com/java-portfolio'},\n",
       "  {'links': 'https://example.com/android-portfolio'}],\n",
       " [{'links': 'https://example.com/ml-python-portfolio'},\n",
       "  {'links': 'https://example.com/python-portfolio'}],\n",
       " [{'links': 'https://example.com/ml-python-portfolio'},\n",
       "  {'links': 'https://example.com/wordpress-portfolio'}],\n",
       " [{'links': 'https://example.com/magento-portfolio'},\n",
       "  {'links': 'https://example.com/wordpress-portfolio'}],\n",
       " [{'links': 'https://example.com/ios-ar-portfolio'},\n",
       "  {'links': 'https://example.com/wordpress-portfolio'}],\n",
       " [{'links': 'https://example.com/devops-portfolio'},\n",
       "  {'links': 'https://example.com/ios-ar-portfolio'}],\n",
       " [{'links': 'https://example.com/devops-portfolio'},\n",
       "  {'links': 'https://example.com/kotlin-backend-portfolio'}]]"
      ]
     },
     "execution_count": 47,
     "metadata": {},
     "output_type": "execute_result"
    }
   ],
   "source": [
    "links = collection.query(query_texts=[skill for j in job for skill in j['skills']], n_results=2).get('metadatas', [])\n",
    "links"
   ]
  },
  {
   "cell_type": "code",
   "execution_count": 50,
   "id": "f53a13fc",
   "metadata": {},
   "outputs": [
    {
     "name": "stdout",
     "output_type": "stream",
     "text": [
      "Subject: Expert Solutions for Your Software Engineer, Data Scientist, and DevOps Engineer Needs\n",
      "\n",
      "Dear Hiring Manager,\n",
      "\n",
      "I hope this email finds you well. I came across your job postings for a Software Engineer, Data Scientist, and DevOps Engineer, and I am excited to introduce you to I0I, an AI & Software Consulting company that can help you find the perfect candidates for these roles.\n",
      "\n",
      "At I0I, we have a proven track record of empowering numerous enterprises with tailored solutions, fostering scalability, process optimization, cost reduction, and heightened overall efficiency. Our team of experts has extensive experience in designing, developing, and testing software applications, analyzing complex data sets, and developing predictive models, as well as designing and implementing scalable infrastructure solutions.\n",
      "\n",
      "Our portfolio showcases our capabilities in:\n",
      "\n",
      "* Java and Spring development: https://example.com/java-portfolio\n",
      "* Machine Learning and Python development: https://example.com/ml-python-portfolio\n",
      "* DevOps and AWS expertise: https://example.com/devops-portfolio\n",
      "\n",
      "We understand that finding the right candidates for these roles can be challenging, and that's where we come in. Our team can help you identify, attract, and hire top talent in the industry. We have a robust network of professionals with expertise in Java, Spring, Hibernate, Python, Machine Learning, Data Visualization, AWS, Docker, and Kubernetes.\n",
      "\n",
      "If you're looking for a reliable partner to help you find the perfect candidates for your Software Engineer, Data Scientist, and DevOps Engineer roles, I'd love to schedule a call to discuss how I0I can support your hiring needs.\n",
      "\n",
      "Please let me know if you're interested, and I'll send over some case studies and a proposal outlining our services.\n",
      "\n",
      "Best regards,\n",
      "\n",
      "Abhijat\n",
      "Business Development Executive\n",
      "I0I\n"
     ]
    }
   ],
   "source": [
    "prompt_email = PromptTemplate.from_template(\n",
    "        \"\"\"\n",
    "        ### JOB DESCRIPTION:\n",
    "        {job_description}\n",
    "        \n",
    "        ### INSTRUCTION:\n",
    "        You are Abhijat, a business development executive at I0I. I0I is an AI & Software Consulting company dedicated to facilitating\n",
    "        the seamless integration of business processes through automated tools. \n",
    "        Over our experience, we have empowered numerous enterprises with tailored solutions, fostering scalability, \n",
    "        process optimization, cost reduction, and heightened overall efficiency. \n",
    "        Your job is to write a cold email to the client regarding the job mentioned above describing the capability of I0I \n",
    "        in fulfilling their needs.\n",
    "        Also add the most relevant ones from the following links to showcase I0I's portfolio: {link_list}\n",
    "        Remember you are Abhijat, BDE at I0I. \n",
    "        Do not provide a preamble.\n",
    "        ### EMAIL (NO PREAMBLE):\n",
    "        \n",
    "        \"\"\"\n",
    "        )\n",
    "\n",
    "chain_email = prompt_email | llm\n",
    "res = chain_email.invoke({\"job_description\": str(job), \"link_list\": links})\n",
    "print(res.content)"
   ]
  }
 ],
 "metadata": {
  "kernelspec": {
   "display_name": "Python 3 (ipykernel)",
   "language": "python",
   "name": "python3"
  },
  "language_info": {
   "codemirror_mode": {
    "name": "ipython",
    "version": 3
   },
   "file_extension": ".py",
   "mimetype": "text/x-python",
   "name": "python",
   "nbconvert_exporter": "python",
   "pygments_lexer": "ipython3",
   "version": "3.11.9"
  }
 },
 "nbformat": 4,
 "nbformat_minor": 5
}
